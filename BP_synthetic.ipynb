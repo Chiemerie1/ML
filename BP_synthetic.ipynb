{
 "cells": [
  {
   "cell_type": "code",
   "execution_count": 1,
   "metadata": {},
   "outputs": [],
   "source": [
    "import pandas as pd\n",
    "import matplotlib.pyplot as plt\n",
    "import numpy as np\n",
    "from sklearn.model_selection import train_test_split"
   ]
  },
  {
   "cell_type": "code",
   "execution_count": 2,
   "metadata": {},
   "outputs": [],
   "source": [
    " # reading the txt file into pandas\n",
    "data = pd.read_csv(\"A1-synthetic.txt\", delimiter=\"\\t\")"
   ]
  },
  {
   "cell_type": "code",
   "execution_count": 3,
   "metadata": {},
   "outputs": [
    {
     "data": {
      "text/html": [
       "<div>\n",
       "<style scoped>\n",
       "    .dataframe tbody tr th:only-of-type {\n",
       "        vertical-align: middle;\n",
       "    }\n",
       "\n",
       "    .dataframe tbody tr th {\n",
       "        vertical-align: top;\n",
       "    }\n",
       "\n",
       "    .dataframe thead th {\n",
       "        text-align: right;\n",
       "    }\n",
       "</style>\n",
       "<table border=\"1\" class=\"dataframe\">\n",
       "  <thead>\n",
       "    <tr style=\"text-align: right;\">\n",
       "      <th></th>\n",
       "      <th>v1</th>\n",
       "      <th>v2</th>\n",
       "      <th>v3</th>\n",
       "      <th>v4</th>\n",
       "      <th>v5</th>\n",
       "      <th>v6</th>\n",
       "      <th>v7</th>\n",
       "      <th>v8</th>\n",
       "      <th>v9</th>\n",
       "      <th>z</th>\n",
       "    </tr>\n",
       "  </thead>\n",
       "  <tbody>\n",
       "    <tr>\n",
       "      <th>0</th>\n",
       "      <td>37.344110</td>\n",
       "      <td>10.542156</td>\n",
       "      <td>0.969185</td>\n",
       "      <td>3.568534</td>\n",
       "      <td>96.798733</td>\n",
       "      <td>3.429026</td>\n",
       "      <td>75.810196</td>\n",
       "      <td>0</td>\n",
       "      <td>20.002459</td>\n",
       "      <td>11.805369</td>\n",
       "    </tr>\n",
       "    <tr>\n",
       "      <th>1</th>\n",
       "      <td>4.089849</td>\n",
       "      <td>11.894301</td>\n",
       "      <td>0.467775</td>\n",
       "      <td>1.279044</td>\n",
       "      <td>100.149383</td>\n",
       "      <td>3.190073</td>\n",
       "      <td>76.423095</td>\n",
       "      <td>0</td>\n",
       "      <td>12.702628</td>\n",
       "      <td>5.125025</td>\n",
       "    </tr>\n",
       "    <tr>\n",
       "      <th>2</th>\n",
       "      <td>-32.333439</td>\n",
       "      <td>10.968631</td>\n",
       "      <td>0.238486</td>\n",
       "      <td>1.410745</td>\n",
       "      <td>100.642075</td>\n",
       "      <td>3.093934</td>\n",
       "      <td>78.758727</td>\n",
       "      <td>1</td>\n",
       "      <td>10.723848</td>\n",
       "      <td>3.218553</td>\n",
       "    </tr>\n",
       "  </tbody>\n",
       "</table>\n",
       "</div>"
      ],
      "text/plain": [
       "          v1         v2        v3        v4          v5        v6         v7  \\\n",
       "0  37.344110  10.542156  0.969185  3.568534   96.798733  3.429026  75.810196   \n",
       "1   4.089849  11.894301  0.467775  1.279044  100.149383  3.190073  76.423095   \n",
       "2 -32.333439  10.968631  0.238486  1.410745  100.642075  3.093934  78.758727   \n",
       "\n",
       "   v8         v9          z  \n",
       "0   0  20.002459  11.805369  \n",
       "1   0  12.702628   5.125025  \n",
       "2   1  10.723848   3.218553  "
      ]
     },
     "execution_count": 3,
     "metadata": {},
     "output_type": "execute_result"
    }
   ],
   "source": [
    "data[:3]"
   ]
  },
  {
   "cell_type": "code",
   "execution_count": 4,
   "metadata": {},
   "outputs": [],
   "source": [
    "v1 = data[\"v1\"]\n",
    "v2 = data[\"v2\"]\n",
    "v3 = data[\"v3\"]\n",
    "v4 = data[\"v4\"]\n",
    "v5 = data[\"v5\"]\n",
    "v6 = data[\"v6\"]\n",
    "v7 = data[\"v7\"]\n",
    "v8 = data[\"v8\"]\n",
    "v9 = data[\"v9\"]\n",
    "\n",
    "y = data[\"z\"]\n"
   ]
  },
  {
   "cell_type": "code",
   "execution_count": 5,
   "metadata": {},
   "outputs": [],
   "source": [
    "X = np.array([\n",
    "    v1, v2, v3, v4, v5, v6, v7, v8, v9\n",
    "]).T\n",
    "\n",
    "y = np.array([y]).T"
   ]
  },
  {
   "cell_type": "code",
   "execution_count": 6,
   "metadata": {},
   "outputs": [
    {
     "data": {
      "text/plain": [
       "(1000, 9)"
      ]
     },
     "execution_count": 6,
     "metadata": {},
     "output_type": "execute_result"
    }
   ],
   "source": [
    "X.shape"
   ]
  },
  {
   "cell_type": "code",
   "execution_count": 7,
   "metadata": {},
   "outputs": [
    {
     "data": {
      "text/plain": [
       "(1000, 1)"
      ]
     },
     "execution_count": 7,
     "metadata": {},
     "output_type": "execute_result"
    }
   ],
   "source": [
    "y.shape"
   ]
  },
  {
   "cell_type": "code",
   "execution_count": 8,
   "metadata": {},
   "outputs": [],
   "source": [
    "# Normalizing the data\n",
    "mean = np.mean(X, axis=0)\n",
    "std = np.std(X, axis=0)\n",
    "X = (X - mean) / std\n",
    "\n",
    "mean = np.mean(y, axis=0)\n",
    "std = np.std(y, axis=0)\n",
    "y = (y - mean) / std"
   ]
  },
  {
   "cell_type": "code",
   "execution_count": 9,
   "metadata": {},
   "outputs": [
    {
     "data": {
      "text/plain": [
       "array([[ 1.28066308, -0.79345051,  1.61652059,  1.00403924, -0.67674149,\n",
       "         2.55338497, -0.46635316, -0.6749845 ,  1.8864787 ],\n",
       "       [ 0.10989567,  1.52266861, -0.15431043, -0.9925339 ,  0.0082982 ,\n",
       "         1.68463696, -0.34411627, -0.6749845 , -0.35848683],\n",
       "       [-1.17244218, -0.06293159, -0.96408809, -0.87768258,  0.10902895,\n",
       "         1.33511181,  0.12170321,  1.4815155 , -0.96703443]])"
      ]
     },
     "execution_count": 9,
     "metadata": {},
     "output_type": "execute_result"
    }
   ],
   "source": [
    "X[:3]"
   ]
  },
  {
   "cell_type": "code",
   "execution_count": 10,
   "metadata": {},
   "outputs": [],
   "source": [
    "# Split the data into training and testing sets\n",
    "X_train, X_test, y_train, y_test = train_test_split(X, y, test_size=0.15, random_state=42)"
   ]
  },
  {
   "cell_type": "code",
   "execution_count": 11,
   "metadata": {},
   "outputs": [],
   "source": [
    "def sigmoid(x):\n",
    "  # Activation function\n",
    "    return 1/(1 + np.exp(-x))"
   ]
  },
  {
   "cell_type": "code",
   "execution_count": 12,
   "metadata": {},
   "outputs": [],
   "source": [
    "def sigmoid_derivative(x):\n",
    "  # Derivative of the activation function\n",
    "    return x * (1 - x)"
   ]
  },
  {
   "cell_type": "code",
   "execution_count": 13,
   "metadata": {},
   "outputs": [],
   "source": [
    "# Initialize the network parameters\n",
    "# number of units in each layer\n",
    "n = [9, 15, 10, 1]\n",
    "# number of layers\n",
    "L = len(n)\n",
    "# fields\n",
    "h = [np.zeros(n[i]) for i in range(L)]\n",
    "# activations\n",
    "xi = [np.zeros(n[i]) for i in range(L)]\n",
    "# weights\n",
    "w = [np.random.rand(n[i], n[i+1]) for i in range(L-1)]\n",
    "# thresholds\n",
    "theta = [np.zeros(n[i]) for i in range(L)]\n",
    "# error propagation\n",
    "delta = [np.zeros(n[i]) for i in range(L)]\n",
    "# weight changes\n",
    "d_w = [np.zeros(w[i].shape) for i in range(L-1)]\n",
    "# threshold changes\n",
    "d_theta = [np.zeros(theta[i].shape) for i in range(L)]\n",
    "# previous weight changes\n",
    "d_w_prev = [np.zeros(w[i].shape) for i in range(L-1)]\n",
    "# previous threshold changes\n",
    "d_theta_prev = [np.zeros(theta[i].shape) for i in range(L)]\n",
    "# learning rate\n",
    "learning_rate = 0.01\n",
    "# number of epochs\n",
    "epochs = 600\n"
   ]
  },
  {
   "cell_type": "code",
   "execution_count": 14,
   "metadata": {},
   "outputs": [],
   "source": [
    "# Train the network\n",
    "for epoch in range(epochs):\n",
    "    # Forward propagation\n",
    "    h[0] = X_train # input layer\n",
    "    for i in range(1, L):\n",
    "    # field before activation\n",
    "        xi[i] = np.dot(h[i-1], w[i-1]) + theta[i]\n",
    "        # activation\n",
    "        h[i] = sigmoid(xi[i])\n",
    "    # output prediction\n",
    "    y_pred = h[L-1]\n",
    "  \n",
    "  # Compute the loss\n",
    "    loss = np.mean((y_train - y_pred)**2)\n",
    "  \n",
    "  # Backward propagation\n",
    "  # error at output layer\n",
    "    delta[L-1] = 2*(y_train - y_pred) * sigmoid_derivative(xi[L-1])\n",
    "    for i in range(L-2, -1, -1):\n",
    "    # error at hidden layers\n",
    "        delta[i] = np.dot(delta[i+1], w[i].T) * sigmoid_derivative(xi[i])\n",
    "  \n",
    "  # Update the weights and thresholds\n",
    "    for i in range(L-1):\n",
    "    # change in weights\n",
    "        d_w[i] = learning_rate * np.dot(h[i].T, delta[i+1])\n",
    "        # change in thresholds\n",
    "        d_theta[i] = learning_rate * delta[i+1]\n",
    "        # Use the momentum term to smooth out the weight and threshold updates\n",
    "        d_w[i] = d_w[i] + 0\n",
    "        "
   ]
  },
  {
   "cell_type": "code",
   "execution_count": 15,
   "metadata": {},
   "outputs": [
    {
     "name": "stdout",
     "output_type": "stream",
     "text": [
      "Testing error: 1.8046252774480782\n"
     ]
    }
   ],
   "source": [
    "# Evaluate the network on the testing data\n",
    "# input layer\n",
    "h[0] = X_test \n",
    "for i in range(1, L):\n",
    "  # field before activation\n",
    "    xi[i] = np.dot(h[i-1], w[i-1]) + theta[i]\n",
    "  # activation\n",
    "    h[i] = sigmoid(xi[i])\n",
    "# output prediction\n",
    "y_pred = h[L-1]\n",
    "\n",
    "# Compute the testing error\n",
    "error = np.mean((y_test - y_pred)**2)\n",
    "print('Testing error:', error)"
   ]
  },
  {
   "cell_type": "code",
   "execution_count": 16,
   "metadata": {},
   "outputs": [],
   "source": [
    "synthetic_res = pd.DataFrame(y_pred)"
   ]
  },
  {
   "cell_type": "code",
   "execution_count": 17,
   "metadata": {},
   "outputs": [],
   "source": [
    "synthetic_res.rename(columns={0: \"y_pred\"}, inplace=True)\n",
    "synthetic_res[\"real_value\"] = y_test\n",
    "synthetic_res.to_csv(\"synthetic_res.txt\")"
   ]
  },
  {
   "cell_type": "code",
   "execution_count": 18,
   "metadata": {},
   "outputs": [
    {
     "data": {
      "image/png": "[encoded data removed]",
      "text/plain": [
       "<Figure size 640x480 with 1 Axes>"
      ]
     },
     "metadata": {},
     "output_type": "display_data"
    }
   ],
   "source": [
    "plt.scatter(synthetic_res.real_value, synthetic_res.y_pred, color=\"green\")\n",
    "plt.xlabel(\"real values\")\n",
    "plt.ylabel(\"predicted values\")\n",
    "plt.show()"
   ]
  },
  {
   "cell_type": "code",
   "execution_count": 19,
   "metadata": {},
   "outputs": [
    {
     "data": {
      "image/png": "[encoded data removed]",
      "text/plain": [
       "<Figure size 640x480 with 1 Axes>"
      ]
     },
     "metadata": {},
     "output_type": "display_data"
    }
   ],
   "source": [
    "plt.scatter(y_test, h[i], color=\"green\")\n",
    "plt.xlabel(\"real values\")\n",
    "plt.ylabel(\"predicted values\")\n",
    "plt.title(\"BP Insurance test\")\n",
    "plt.show()"
   ]
  },
  {
   "cell_type": "code",
   "execution_count": null,
   "metadata": {},
   "outputs": [],
   "source": []
  }
 ],
 "metadata": {
  "kernelspec": {
   "display_name": "Python 3",
   "language": "python",
   "name": "python3"
  },
  "language_info": {
   "codemirror_mode": {
    "name": "ipython",
    "version": 3
   },
   "file_extension": ".py",
   "mimetype": "text/x-python",
   "name": "python",
   "nbconvert_exporter": "python",
   "pygments_lexer": "ipython3",
   "version": "3.8.8rc1 (tags/v3.8.8rc1:dfd7d68, Feb 17 2021, 11:01:21) [MSC v.1928 64 bit (AMD64)]"
  },
  "orig_nbformat": 4,
  "vscode": {
   "interpreter": {
    "hash": "069c8d7dd4aa5328f7fe4c2688378d24a31c1604501fe31f8ffd6338c00e013a"
   }
  }
 },
 "nbformat": 4,
 "nbformat_minor": 2
}
